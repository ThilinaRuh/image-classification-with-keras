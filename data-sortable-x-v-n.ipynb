{
 "cells": [
  {
   "cell_type": "code",
   "execution_count": 34,
   "id": "824378cb",
   "metadata": {},
   "outputs": [
    {
     "name": "stdout",
     "output_type": "stream",
     "text": [
      "               ID   X1   X2   X3   X4   X5   X6   X7   X8   X9  ...  X173  \\\n",
      "0      X21.V1.791  135  190  229  223  192  125   55   -9  -33  ...   -77   \n",
      "1      X15.V1.924  386  382  356  331  320  315  307  272  244  ...   152   \n",
      "2         X8.V1.1  -32  -39  -47  -37  -32  -36  -57  -73  -85  ...    19   \n",
      "3       X16.V1.60 -105 -101  -96  -92  -89  -95 -102 -100  -87  ...   -77   \n",
      "4       X20.V1.54   -9  -65  -98 -102  -78  -48  -16    0  -21  ...   -32   \n",
      "...           ...  ...  ...  ...  ...  ...  ...  ...  ...  ...  ...   ...   \n",
      "11495  X22.V1.114  -22  -22  -23  -26  -36  -42  -45  -42  -45  ...     5   \n",
      "11496  X19.V1.354  -47  -11   28   77  141  211  246  240  193  ...    14   \n",
      "11497    X8.V1.28   14    6  -13  -16   10   26   27   -9    4  ...   -62   \n",
      "11498  X10.V1.932  -40  -25   -9  -12   -2   12    7   19   22  ...   143   \n",
      "11499  X16.V1.210   29   41   57   72   74   62   54   43   31  ...     2   \n",
      "\n",
      "       X174  X175  X176  X177  X178  y  X_VAL  V_VAL  N_VAL  \n",
      "0      -103  -127  -116   -83   -51  4     21      1    791  \n",
      "1       157   156   154   143   129  1     15      1    924  \n",
      "2       -12   -30   -35   -35   -36  5      8      1      1  \n",
      "3       -85   -77   -72   -69   -65  5     16      1     60  \n",
      "4       -41   -65   -83   -89   -73  5     20      1     54  \n",
      "...     ...   ...   ...   ...   ... ..    ...    ...    ...  \n",
      "11495    -1   -18   -37   -47   -48  2     22      1    114  \n",
      "11496    27    48    77   117   170  1     19      1    354  \n",
      "11497   -67   -30    -2    -1    -8  5      8      1     28  \n",
      "11498   116    86    68    59    55  3     10      1    932  \n",
      "11499     5     4    -2     2    20  4     16      1    210  \n",
      "\n",
      "[11500 rows x 183 columns]\n"
     ]
    }
   ],
   "source": [
    "import pandas as pd\n",
    "\n",
    "#df = pd.read_csv('data-no-header.csv')\n",
    "#print(df)\n",
    "\n",
    "df = pd.read_csv('data.csv')\n",
    "\n",
    "X_VAL = []\n",
    "V_VAL = []\n",
    "N_VAL = []\n",
    "\n",
    "for value in df[\"ID\"]:\n",
    "    x = value.split(\".\")\n",
    "    \n",
    "    X_VAL.append(x[0][1:]) # Remove 'X'\n",
    "    V_VAL.append(x[1][1:]) # Remove 'V'\n",
    "    \n",
    "    if x.__len__()==3:\n",
    "        N_VAL.append(x[2])\n",
    "    else:\n",
    "        N_VAL.append(0)\n",
    "       \n",
    "df['X_VAL'] = X_VAL  \n",
    "df['V_VAL'] = V_VAL\n",
    "df['N_VAL'] = N_VAL\n",
    "print(df)\n",
    "df.to_csv('data-sortable.csv', mode='a')"
   ]
  },
  {
   "cell_type": "code",
   "execution_count": null,
   "id": "99bf93d7",
   "metadata": {},
   "outputs": [],
   "source": []
  }
 ],
 "metadata": {
  "kernelspec": {
   "display_name": "Python 3",
   "language": "python",
   "name": "python3"
  },
  "language_info": {
   "codemirror_mode": {
    "name": "ipython",
    "version": 3
   },
   "file_extension": ".py",
   "mimetype": "text/x-python",
   "name": "python",
   "nbconvert_exporter": "python",
   "pygments_lexer": "ipython3",
   "version": "3.8.8"
  }
 },
 "nbformat": 4,
 "nbformat_minor": 5
}
